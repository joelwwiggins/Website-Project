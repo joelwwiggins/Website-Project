{
 "cells": [
  {
   "cell_type": "code",
   "execution_count": 2,
   "metadata": {},
   "outputs": [],
   "source": [
    "import pandas as pd\n",
    "import zipfile\n",
    "import pymongo\n",
    "from pymongo import MongoClient\n",
    "import chardet\n",
    "from sklearn.feature_extraction.text import CountVectorizer\n",
    "from sklearn.metrics.pairwise import cosine_similarity"
   ]
  },
  {
   "cell_type": "code",
   "execution_count": 3,
   "metadata": {},
   "outputs": [],
   "source": [
    "from flask import Flask, jsonify"
   ]
  },
  {
   "cell_type": "code",
   "execution_count": 5,
   "metadata": {},
   "outputs": [],
   "source": [
    "#Importing data\n",
    "#Questions to answer:\n",
    "#Who is the goat? Who has the highest average similarity score for all jobs?\n",
    "#Who is best fit for a job?\n",
    "\n",
    "jobs_import=pd.read_csv('data job posts.csv',encoding = \"utf-8\")\n",
    "resume_import=pd.read_csv('UpdatedResumeDataSet - Copy.csv',engine=\"python\", encoding=\"utf-8\")\n",
    "# #Why won't you give me the correct formatting????\n",
    "# path = 'UpdatedResumeDataSet - Copy.csv'\n",
    "# with open(path, mode='rb') as f:\n",
    "#     binary = f.read()\n",
    "#     code = chardet.detect(binary)['encoding']\n",
    "#     print(code)"
   ]
  },
  {
   "cell_type": "code",
   "execution_count": 75,
   "metadata": {},
   "outputs": [
    {
     "data": {
      "text/plain": [
       "['Data Science',\n",
       " 'Data Science',\n",
       " 'Data Science',\n",
       " 'Data Science',\n",
       " 'Data Science']"
      ]
     },
     "execution_count": 75,
     "metadata": {},
     "output_type": "execute_result"
    }
   ],
   "source": [
    "resume_category_list=list(resume_import.iloc[:5,0])\n",
    "resume_category_list"
   ]
  },
  {
   "cell_type": "code",
   "execution_count": 72,
   "metadata": {},
   "outputs": [
    {
     "data": {
      "text/plain": [
       "array(['Data Science', 'HR', 'Advocate', 'Arts', 'Web Designing',\n",
       "       'Mechanical Engineer', 'Sales', 'Health and fitness',\n",
       "       'Civil Engineer', 'Java Developer', 'Business Analyst',\n",
       "       'SAP Developer', 'Automation Testing', 'Electrical Engineering',\n",
       "       'Operations Manager', 'Python Developer', 'DevOps Engineer',\n",
       "       'Network Security Engineer', 'PMO', 'Database', 'Hadoop',\n",
       "       'ETL Developer', 'DotNet Developer', 'Blockchain', 'Testing'],\n",
       "      dtype=object)"
      ]
     },
     "execution_count": 72,
     "metadata": {},
     "output_type": "execute_result"
    }
   ],
   "source": [
    "company_list=list(jobs_import.iloc[:5,3])\n",
    "company_list"
   ]
  },
  {
   "cell_type": "code",
   "execution_count": 6,
   "metadata": {},
   "outputs": [],
   "source": [
    "#Remove all non utf-8 characters\n",
    "resume_import_clean=resume_import.replace('[^a-zA-Z\\d\\_.]+',' ',regex=True)\n",
    "jobs_import_clean=jobs_import.replace('[^a-zA-Z\\d\\_.]+',' ',regex=True)"
   ]
  },
  {
   "cell_type": "code",
   "execution_count": null,
   "metadata": {},
   "outputs": [],
   "source": [
    "# use cosign similary to see how similar all job postings are to other job postings\n",
    "post=jobs_import_clean['jobpost']\n",
    "cv = CountVectorizer()\n",
    "count_matrix = cv.fit_transform(post)\n",
    "cosine_sim = cosine_similarity(count_matrix)"
   ]
  },
  {
   "cell_type": "code",
   "execution_count": 7,
   "metadata": {},
   "outputs": [],
   "source": [
    "post=jobs_import_clean['jobpost']\n",
    "cv = CountVectorizer()\n",
    "count_matrix = cv.fit_transform(post)\n",
    "cosine_sim = cosine_similarity(count_matrix)\n",
    "\n"
   ]
  },
  {
   "cell_type": "code",
   "execution_count": 8,
   "metadata": {},
   "outputs": [],
   "source": [
    "# use cosign similary to see how similar all resumes are to other resumes\n",
    "resume_desc=resume_import_clean['Resume']\n",
    "count_matrix_resume = cv.fit_transform(resume_desc)\n",
    "cosine_sim_resume = cosine_similarity(count_matrix_resume)\n"
   ]
  },
  {
   "cell_type": "code",
   "execution_count": 9,
   "metadata": {},
   "outputs": [],
   "source": [
    "#stack job posts in same column as resume in data frame so that cosign similarity of everything can be determined\n",
    "job_resume_stack=pd.concat([resume_desc,post],ignore_index=True)\n",
    "job_resume_stackdf=pd.DataFrame(job_resume_stack)\n"
   ]
  },
  {
   "cell_type": "code",
   "execution_count": 10,
   "metadata": {},
   "outputs": [],
   "source": [
    "#Calculate cosign similarity of everything\n",
    "job_resume_stack_info=job_resume_stackdf.iloc[:,0]\n",
    "count_matrix_stack = cv.fit_transform(job_resume_stack_info)\n",
    "cosine_sim_stack = cosine_similarity(count_matrix_stack)"
   ]
  },
  {
   "cell_type": "code",
   "execution_count": 11,
   "metadata": {},
   "outputs": [
    {
     "data": {
      "text/plain": [
       "array([[<matplotlib.axes._subplots.AxesSubplot object at 0x000001F6E26EA390>,\n",
       "        <matplotlib.axes._subplots.AxesSubplot object at 0x000001F6E2749518>]],\n",
       "      dtype=object)"
      ]
     },
     "execution_count": 11,
     "metadata": {},
     "output_type": "execute_result"
    }
   ],
   "source": [
    "# make sure the stack is a data frame\n",
    "cosine_sim_stackdf=pd.DataFrame(cosine_sim_stack)\n",
    "#Create stack dataframe to hold stats\n",
    "stack=pd.DataFrame()\n",
    "# Add mean cosign similarity of every row into a column named \"mean\"\n",
    "cosine_sim_stackdf['mean']=cosine_sim_stackdf.mean(axis=1)\n",
    "#Comaring resumes to jobs\n",
    "stack['resume_mean']=cosine_sim_stackdf.iloc[19002:,:19002].mean(axis=1)\n",
    "#comparing all jobs to jobs\n",
    "#Not sure why job_mean doesn't plot here. Can be corrected by taking out on of the historgrams.\n",
    "stack['job_mean']=cosine_sim_stackdf.iloc[0:19001,0:19001].mean(axis=1)\n",
    "stack.hist(bins=50)"
   ]
  },
  {
   "cell_type": "code",
   "execution_count": 12,
   "metadata": {},
   "outputs": [
    {
     "data": {
      "text/plain": [
       "array([[<matplotlib.axes._subplots.AxesSubplot object at 0x000001F6E39B3908>,\n",
       "        <matplotlib.axes._subplots.AxesSubplot object at 0x000001F6E39F5208>],\n",
       "       [<matplotlib.axes._subplots.AxesSubplot object at 0x000001F6E3A1D780>,\n",
       "        <matplotlib.axes._subplots.AxesSubplot object at 0x000001F6E3A46CF8>]],\n",
       "      dtype=object)"
      ]
     },
     "execution_count": 12,
     "metadata": {},
     "output_type": "execute_result"
    },
    {
     "data": {
      "image/png": "[encoded data removed]",
      "text/plain": [
       "<Figure size 432x288 with 4 Axes>"
      ]
     },
     "metadata": {
      "needs_background": "light"
     },
     "output_type": "display_data"
    }
   ],
   "source": [
    "stack['resume_max']=cosine_sim_stackdf.iloc[19002:,:19002].max(axis=1)\n",
    "stack.hist()"
   ]
  },
  {
   "cell_type": "code",
   "execution_count": 13,
   "metadata": {},
   "outputs": [
    {
     "data": {
      "text/html": [
       "<div>\n",
       "<style scoped>\n",
       "    .dataframe tbody tr th:only-of-type {\n",
       "        vertical-align: middle;\n",
       "    }\n",
       "\n",
       "    .dataframe tbody tr th {\n",
       "        vertical-align: top;\n",
       "    }\n",
       "\n",
       "    .dataframe thead th {\n",
       "        text-align: right;\n",
       "    }\n",
       "</style>\n",
       "<table border=\"1\" class=\"dataframe\">\n",
       "  <thead>\n",
       "    <tr style=\"text-align: right;\">\n",
       "      <th></th>\n",
       "      <th>resume_mean</th>\n",
       "      <th>job_mean</th>\n",
       "      <th>resume_max</th>\n",
       "    </tr>\n",
       "  </thead>\n",
       "  <tbody>\n",
       "    <tr>\n",
       "      <th>19040</th>\n",
       "      <td>0.712837</td>\n",
       "      <td>NaN</td>\n",
       "      <td>0.999586</td>\n",
       "    </tr>\n",
       "    <tr>\n",
       "      <th>19045</th>\n",
       "      <td>0.716368</td>\n",
       "      <td>NaN</td>\n",
       "      <td>0.999449</td>\n",
       "    </tr>\n",
       "    <tr>\n",
       "      <th>19266</th>\n",
       "      <td>0.684906</td>\n",
       "      <td>NaN</td>\n",
       "      <td>0.999263</td>\n",
       "    </tr>\n",
       "    <tr>\n",
       "      <th>19641</th>\n",
       "      <td>0.717245</td>\n",
       "      <td>NaN</td>\n",
       "      <td>0.999021</td>\n",
       "    </tr>\n",
       "  </tbody>\n",
       "</table>\n",
       "</div>"
      ],
      "text/plain": [
       "       resume_mean  job_mean  resume_max\n",
       "19040     0.712837       NaN    0.999586\n",
       "19045     0.716368       NaN    0.999449\n",
       "19266     0.684906       NaN    0.999263\n",
       "19641     0.717245       NaN    0.999021"
      ]
     },
     "execution_count": 13,
     "metadata": {},
     "output_type": "execute_result"
    }
   ],
   "source": [
    "#Who is the best fit for specific job?\n",
    "like_a_glove=stack[stack['resume_max']>.999]\n",
    "like_a_glove"
   ]
  },
  {
   "cell_type": "code",
   "execution_count": 14,
   "metadata": {},
   "outputs": [
    {
     "data": {
      "text/html": [
       "<div>\n",
       "<style scoped>\n",
       "    .dataframe tbody tr th:only-of-type {\n",
       "        vertical-align: middle;\n",
       "    }\n",
       "\n",
       "    .dataframe tbody tr th {\n",
       "        vertical-align: top;\n",
       "    }\n",
       "\n",
       "    .dataframe thead th {\n",
       "        text-align: right;\n",
       "    }\n",
       "</style>\n",
       "<table border=\"1\" class=\"dataframe\">\n",
       "  <thead>\n",
       "    <tr style=\"text-align: right;\">\n",
       "      <th></th>\n",
       "      <th>resume_mean</th>\n",
       "      <th>job_mean</th>\n",
       "      <th>resume_max</th>\n",
       "    </tr>\n",
       "  </thead>\n",
       "  <tbody>\n",
       "    <tr>\n",
       "      <th>19308</th>\n",
       "      <td>0.741292</td>\n",
       "      <td>NaN</td>\n",
       "      <td>0.915805</td>\n",
       "    </tr>\n",
       "    <tr>\n",
       "      <th>19875</th>\n",
       "      <td>0.740877</td>\n",
       "      <td>NaN</td>\n",
       "      <td>0.955529</td>\n",
       "    </tr>\n",
       "  </tbody>\n",
       "</table>\n",
       "</div>"
      ],
      "text/plain": [
       "       resume_mean  job_mean  resume_max\n",
       "19308     0.741292       NaN    0.915805\n",
       "19875     0.740877       NaN    0.955529"
      ]
     },
     "execution_count": 14,
     "metadata": {},
     "output_type": "execute_result"
    }
   ],
   "source": [
    "#highers average similary score doesn't have the highest max similarity.  May need to look by job description\n",
    "cosine_simdf=pd.DataFrame(cosine_sim)\n",
    "goat=stack[stack['resume_mean']>.74]\n",
    "goat"
   ]
  },
  {
   "cell_type": "code",
   "execution_count": null,
   "metadata": {},
   "outputs": [],
   "source": []
  },
  {
   "cell_type": "code",
   "execution_count": 15,
   "metadata": {},
   "outputs": [
    {
     "data": {
      "text/plain": [
       "'Personal Skills Ability to quickly grasp technical aspects and willingness to learn High energy levels Result oriented. Education Details January 2018 Master of Engineering Computer Technology Application Bhopal Madhya Pradesh Truba Institute of Engineering Information Technology January 2010 B.E. computer science Bhopal Madhya Pradesh RKDF Institute of Science and Technology College of Engineering January 2006 Polytechnic Information Technology Vidisha Madhya Pradesh SATI Engineering College in Vidisha January 2003 M.tech Thesis Detail BMCH School in Ganj basoda Data science I have six month experience in Data Science. Key Skills Experience in Machine Learning Deep Leaning NLP Python SQL Web Scraping Good knowledge in computer subjects and ability to update Skill Details Experience in Machine Learning Deep Learning NLP Python SQL Web Crawling HTML CSS. Exprience Less than 1 year monthsCompany Details company RNT.AI Technology Solution description Text classification using Machine learning Algorithms with python. Practical knowledge of Deep learning algorithms such as Recurrent Neural Networks RNN . Develop custom data models and algorithms to apply to dataset Experience with Python packages like Pandas Scikit learn Tensor Flow Numpy Matplotliv NLTK. Comfort with SQL MYSQL Sentiment analysis. Apply leave Dataset using classification technique like Tf idf LSA with cosine similarity using Machine learning Algorithms. Web crawling using Selenium web driver and Beautiful Soup with python. company Life Insurance Corporation of India Bhopal description Explaining policy features and the benefits Updated knowledge of life insurance products and shared with customers'"
      ]
     },
     "execution_count": 15,
     "metadata": {},
     "output_type": "execute_result"
    }
   ],
   "source": [
    "#This mf'r has a background in cosign similarity projects and also has the highest resume to job similarity!!!!\n",
    "resume_desc.iloc[38]"
   ]
  },
  {
   "cell_type": "code",
   "execution_count": 16,
   "metadata": {},
   "outputs": [
    {
     "data": {
      "text/plain": [
       "{'Category': 'Data Science',\n",
       " 'Resume': 'Skills Programming Languages Python pandas numpy scipy scikit learn matplotlib Sql Java JavaScript JQuery. Machine learning Regression SVM Na ve Bayes KNN Random Forest Decision Trees Boosting techniques Cluster Analysis Word Embedding Sentiment Analysis Natural Language processing Dimensionality reduction Topic Modelling LDA NMF PCA Neural Nets. Database Visualizations Mysql SqlServer Cassandra Hbase ElasticSearch D3.js DC.js Plotly kibana matplotlib ggplot Tableau. Others Regular Expression HTML CSS Angular 6 Logstash Kafka Python Flask Git Docker computer vision Open CV and understanding of Deep learning.Education Details Data Science Assurance Associate Data Science Assurance Associate Ernst Young LLP Skill Details JAVASCRIPT Exprience 24 months jQuery Exprience 24 months Python Exprience 24 monthsCompany Details company Ernst Young LLP description Fraud Investigations and Dispute Services Assurance TECHNOLOGY ASSISTED REVIEW TAR Technology Assisted Review assists in accelerating the review process and run analytics and generate reports. Core member of a team helped in developing automated review platform tool from scratch for assisting E discovery domain this tool implements predictive coding and topic modelling by automating reviews resulting in reduced labor costs and time spent during the lawyers review. Understand the end to end flow of the solution doing research and development for classification models predictive analysis and mining of the information present in text data. Worked on analyzing the outputs and precision monitoring for the entire tool. TAR assists in predictive coding topic modelling from the evidence by following EY standards. Developed the classifier models in order to identify red flags and fraud related issues. Tools Technologies Python scikit learn tfidf word2vec doc2vec cosine similarity Na ve Bayes LDA NMF for topic modelling Vader and text blob for sentiment analysis. Matplot lib Tableau dashboard for reporting. MULTIPLE DATA SCIENCE AND ANALYTIC PROJECTS USA CLIENTS TEXT ANALYTICS MOTOR VEHICLE CUSTOMER REVIEW DATA Received customer feedback survey data for past one year. Performed sentiment Positive Negative Neutral and time series analysis on customer comments across all 4 categories. Created heat map of terms by survey category based on frequency of words Extracted Positive and Negative words across all the Survey categories and plotted Word cloud. Created customized tableau dashboards for effective reporting and visualizations. CHATBOT Developed a user friendly chatbot for one of our Products which handle simple questions about hours of operation reservation options and so on. This chat bot serves entire product related questions. Giving overview of tool via QA platform and also give recommendation responses so that user question to build chain of relevant answer. This too has intelligence to build the pipeline of questions as per user requirement and asks the relevant recommended questions. Tools Technologies Python Natural language processing NLTK spacy topic modelling Sentiment analysis Word Embedding scikit learn JavaScript JQuery SqlServer INFORMATION GOVERNANCE Organizations to make informed decisions about all of the information they store. The integrated Information Governance portfolio synthesizes intelligence across unstructured data sources and facilitates action to ensure organizations are best positioned to counter information risk. Scan data from multiple sources of formats and parse different file formats extract Meta data information push results for indexing elastic search and created customized interactive dashboards using kibana. Preforming ROT Analysis on the data which give information of data which helps identify content that is either Redundant Outdated or Trivial. Preforming full text search analysis on elastic search with predefined methods which can tag as PII personally identifiable information social security numbers addresses names etc. which frequently targeted during cyber attacks. Tools Technologies Python Flask Elastic Search Kibana FRAUD ANALYTIC PLATFORM Fraud Analytics and investigative platform to review all red flag cases. FAP is a Fraud Analytics and investigative platform with inbuilt case manager and suite of Analytics for various ERP systems. It can be used by clients to interrogate their Accounting systems for identifying the anomalies which can be indicators of fraud by running advanced analytics Tools Technologies HTML JavaScript SqlServer JQuery CSS Bootstrap Node.js D3.js DC.js'}"
      ]
     },
     "execution_count": 16,
     "metadata": {},
     "output_type": "execute_result"
    }
   ],
   "source": [
    "A=jobs_import_clean.to_dict('records')\n",
    "B=resume_import_clean.to_dict('records')\n",
    "B[0]"
   ]
  },
  {
   "cell_type": "code",
   "execution_count": 17,
   "metadata": {},
   "outputs": [],
   "source": [
    "#Combine data into mongodb\n",
    "conn = \"mongodb://localhost:27017\"\n",
    "client = pymongo.MongoClient(conn)"
   ]
  },
  {
   "cell_type": "code",
   "execution_count": 18,
   "metadata": {},
   "outputs": [],
   "source": [
    "#set up tables in db\n",
    "db = client.job_resume\n",
    "resume = db.resume\n",
    "job=db.job"
   ]
  },
  {
   "cell_type": "code",
   "execution_count": 19,
   "metadata": {},
   "outputs": [
    {
     "data": {
      "text/plain": [
       "<pymongo.results.InsertManyResult at 0x1f6e2874408>"
      ]
     },
     "execution_count": 19,
     "metadata": {},
     "output_type": "execute_result"
    }
   ],
   "source": [
    "#insert data to tables\n",
    "job.insert_many(A)\n",
    "resume.insert_many(B)"
   ]
  },
  {
   "cell_type": "code",
   "execution_count": 22,
   "metadata": {},
   "outputs": [
    {
     "data": {
      "text/plain": [
       "Collection(Database(MongoClient(host=['localhost:27017'], document_class=dict, tz_aware=False, connect=True), 'job_resume'), 'resume.0.text')"
      ]
     },
     "execution_count": 22,
     "metadata": {},
     "output_type": "execute_result"
    }
   ],
   "source": [
    "resume[0].text"
   ]
  },
  {
   "cell_type": "code",
   "execution_count": 28,
   "metadata": {},
   "outputs": [
    {
     "data": {
      "text/plain": [
       "[{'_id': ObjectId('6161c1dd1d412c3b26e532b3'),\n",
       "  'jobpost': 'AMERIA Investment Consulting Company JOB TITLE Chief Financial Officer POSITION LOCATION Yerevan Armenia JOB DESCRIPTION AMERIA Investment Consulting Company is seeking a Chief Financial Officer. This position manages the company s fiscal and administrative functions provides highly responsible and technically complex staff assistance to the Executive Director. The work performed requires a high level of technical proficiency in financial management and investment management as well as management supervisory and administrative skills. JOB RESPONSIBILITIES Supervises financial management and administrative staff including assigning responsibilities reviewing employees work processes and products counseling employees giving performance evaluations and recommending disciplinary action Serves as member of management team participating in both strategic and operational planning for the company Directs and oversees the company s financial management activities including establishing and monitoring internal controls managing cash and investments and managing the investment portfolio in collaboration with the Investment team leader. This includes but is not limited to evaluation of investment risk concentration risk fund deployment levels adequacy of loss and liquidity reserves Assists investment team in development of proper documentation and internal systems Directs and oversees the annual budgeting process including developing projections for financial planning and preparing budgets Prepares external and internal financial management reports such as audited financial statements tax returns and reports for the board of directors and company staff Develops implements and maintains efficient and effective accounting systems and controls to ensure compliance with national and international accounting standards and principles sufficiency of fund accounting and comprehensiveness of data for reporting and compliance requirements Ensures contract compliance including interpreting and monitoring contracts with clients submitting required reports and monitoring covenants and other contract terms Oversees the design implementation and maintenance of computer based information system. Oversees records retention both manual and computer based and file maintenance activities Serves as company s risk manager including evaluating loss exposure and obtaining insurance as appropriate Manages other administrative operations such as facilities management payroll administration office operations and administrative support Monitors corporate compliance with by laws and articles of incorporation regarding corporate registration and reporting of fundraising operations. REQUIRED QUALIFICATIONS To perform this job successfully an individual must be able to perform each essential duty satisfactorily. The requirements listed below are representative of the knowledge skill and or ability required. Knowledge of Generally accepted accounting principles Local accounting standards and legislation State reporting requirements pertaining to accounting Principles and practices of financial management and budgeting Principles and practices of financial systems design and analysis Principles and practices of contract management records management and risk management Principles and practices of management and supervision Principles and practices of information systems management. Ability to Apply sound fiscal and administrative practices to the company s activities Plan organize and supervise the work of subordinate employees including training them assigning and evaluating their work and providing job performance feedback Critically analyze fiscal and administrative policies practices procedures and systems and recommend and implement changes as needed Gather and synthesize financial information from a variety of sources and present it to a variety of audiences with differing financial management and analysis expertise Prepare detailed comprehensive financial reports including explanatory text Operate IBM compatible personal computer including word processing spreadsheet and database software applications Operate specialized software applications that support the financial management and budgeting functions. Qualifications A minimum of 5 7 years Accounting Corporate Finance Banking experience including a role as a CFO Excellent finance and accounting technical skills coupled with a demonstrated knowledge of all key financial functions in an consulting company context accounting finance control treasury reserving and reporting Strong financial planning and analytical skills and experience and the ability to work closely with and support the CEO and other executives in strategic development and implementation Excellent leadership management and supervisory track record of attracting selecting developing rewarding and retaining high caliber accounting and finance executive and teams who achieve business goals An undergraduate degree in finance business or other related discipline is required. A CPA CFA ACCA or other financial certification is highly preferred as is a Masters degree in Business Administration Accounting or Finance Fluency in English Armenian and Russian with outstanding writing skills Excellent analytical communication teamwork interpersonal skills Need to be well organized and detail oriented as well as goal result driven and able to deal with complex issues. APPLICATION PROCEDURES To apply for this position please submit a cover letter and a resume addressing relevant qualifications and experience and information on professional reference strictly to Tatevik Hovhannisyan Executive Assistant fax 374 1 546800 or e mail ameria .... Tel 374 1 524040 524140. Only shortlisted candidates will be notified for an interview. Please clearly mention in your application letter that you learned of this job opportunity through Career Center and mention the URL of its website www.careercenter.am Thanks. APPLICATION DEADLINE 26 January 2004 To place a free posting for job or other career related opportunities in your organization at careercenter.am website e mail us atmailbox ...',\n",
       "  'date': 'Jan 5 2004',\n",
       "  'Title': 'Chief Financial Officer',\n",
       "  'Company': 'AMERIA Investment Consulting Company',\n",
       "  'AnnouncementCode': nan,\n",
       "  'Term': nan,\n",
       "  'Eligibility': nan,\n",
       "  'Audience': nan,\n",
       "  'StartDate': nan,\n",
       "  'Duration': nan,\n",
       "  'Location': 'Yerevan Armenia',\n",
       "  'JobDescription': 'AMERIA Investment Consulting Company is seeking a Chief Financial Officer. This position manages the company s fiscal and administrative functions provides highly responsible and technically complex staff assistance to the Executive Director. The work performed requires a high level of technical proficiency in financial management and investment management as well as management supervisory and administrative skills.',\n",
       "  'JobRequirment': ' Supervises financial management and administrative staff including assigning responsibilities reviewing employees work processes and products counseling employees giving performance evaluations and recommending disciplinary action Serves as member of management team participating in both strategic and operational planning for the company Directs and oversees the company s financial management activities including establishing and monitoring internal controls managing cash and investments and managing the investment portfolio in collaboration with the Investment team leader. This includes but is not limited to evaluation of investment risk concentration risk fund deployment levels adequacy of loss and liquidity reserves Assists investment team in development of proper documentation and internal systems Directs and oversees the annual budgeting process including developing projections for financial planning and preparing budgets Prepares external and internal financial management reports such as audited financial statements tax returns and reports for the board of directors and company staff Develops implements and maintains efficient and effective accounting systems and controls to ensure compliance with national and international accounting standards and principles sufficiency of fund accounting and comprehensiveness of data for reporting and compliance requirements Ensures contract compliance including interpreting and monitoring contracts with clients submitting required reports and monitoring covenants and other contract terms Oversees the design implementation and maintenance of computer based information system. Oversees records retention both manual and computer based and file maintenance activities Serves as company s risk manager including evaluating loss exposure and obtaining insurance as appropriate Manages other administrative operations such as facilities management payroll administration office operations and administrative support Monitors corporate compliance with by laws and articles of incorporation regarding corporate registration and reporting of fundraising operations.',\n",
       "  'RequiredQual': 'To perform this job successfully an individual must be able to perform each essential duty satisfactorily. The requirements listed below are representative of the knowledge skill and or ability required. Knowledge of Generally accepted accounting principles Local accounting standards and legislation State reporting requirements pertaining to accounting Principles and practices of financial management and budgeting Principles and practices of financial systems design and analysis Principles and practices of contract management records management and risk management Principles and practices of management and supervision Principles and practices of information systems management. Ability to Apply sound fiscal and administrative practices to the company s activities Plan organize and supervise the work of subordinate employees including training them assigning and evaluating their work and providing job performance feedback Critically analyze fiscal and administrative policies practices procedures and systems and recommend and implement changes as needed Gather and synthesize financial information from a variety of sources and present it to a variety of audiences with differing financial management and analysis expertise Prepare detailed comprehensive financial reports including explanatory text Operate IBM compatible personal computer including word processing spreadsheet and database software applications Operate specialized software applications that support the financial management and budgeting functions. Qualifications A minimum of 5 7 years Accounting Corporate Finance Banking experience including a role as a CFO Excellent finance and accounting technical skills coupled with a demonstrated knowledge of all key financial functions in an consulting company context accounting finance control treasury reserving and reporting Strong financial planning and analytical skills and experience and the ability to work closely with and support the CEO and other executives in strategic development and implementation Excellent leadership management and supervisory track record of attracting selecting developing rewarding and retaining high caliber accounting and finance executive and teams who achieve business goals An undergraduate degree in finance business or other related discipline is required. A CPA CFA ACCA or other financial certification is highly preferred as is a Masters degree in Business Administration Accounting or Finance Fluency in English Armenian and Russian with outstanding writing skills Excellent analytical communication teamwork interpersonal skills Need to be well organized and detail oriented as well as goal result driven and able to deal with complex issues.',\n",
       "  'Salary': nan,\n",
       "  'ApplicationP': 'To apply for this position please submit a cover letter and a resume addressing relevant qualifications and experience and information on professional reference strictly to Tatevik Hovhannisyan Executive Assistant fax 374 1 546800 or e mail ameria .... Tel 374 1 524040 524140. Only shortlisted candidates will be notified for an interview. Please clearly mention in your application letter that you learned of this job opportunity through Career Center and mention the URL of its website www.careercenter.am Thanks.',\n",
       "  'OpeningDate': nan,\n",
       "  'Deadline': '26 January 2004',\n",
       "  'Notes': nan,\n",
       "  'AboutC': nan,\n",
       "  'Attach': nan,\n",
       "  'Year': 2004,\n",
       "  'Month': 1,\n",
       "  'IT': False},\n",
       " {'_id': ObjectId('6161c2411d412c3b26e532b5'),\n",
       "  'jobpost': 'International Research Exchanges Board IREX TITLE Full time Community Connections Intern paid internship DURATION 3 months LOCATION IREX Armenia Main Office Yerevan Armenia DESCRIPTION IREX currently seeks to fill the position of a paid Intern for the Community Connections CC Program. The position is based in the Yerevan office however applicants must be willing to travel throughout Armenia as necessary. This position reports directly to the CC Program Manager. RESPONSIBILITIES Presenting the CC program to interested parties Assisting in planning and scheduling of programmatic meetings and events this includes coordinating logistics for CC staff visitors and participants Assisting the Program Staff Translation Interpretation from Armenian to English and vice versa Helping create maintain and update the CC filing system and databases Completing general administrative tasks for the CC program within the office Other duties as assigned needed. REQUIRED QUALIFICATIONS Bachelor s Degree Master s is preferred Excellent skills in spoken and written English and Armenian languages Past English to Armenian translation and Armenian to English translation experience Good communication and public speaking skills Ability to work independently and as part of a team. REMUNERATION Commensurate with experience. APPLICATION PROCEDURES Please submit a cover letter and resume to IREX Yerevan office Attn Community Connections Program 50 Khanjian Str Tekeyan Center 2nd floor Yerevan 375010 Armenia. E mail cc .... Please clearly mention in your application letter that you learned of this opportunity through Career Center and mention the URL of its website www.careercenter.am Thanks. APPLICATION DEADLINE 12 January 2004 ABOUT COMPANY The International Research Exchanges Board IREX is a US Based private non profit organization. The IREX Armenia Yerevan office was established in 1992 and is a place in Armenia where interested individuals can obtain up to date information on study research and professional internship opportunities in the Unites States. IREX Yerevan collaborates with national government branches local and international NGOs and institutions of higher education in the promotion of IREX administered research and professional programs. The goal of these programs is to make American academic and professional experiences available to qualified individuals. To place a free posting for job or other career related opportunities in your organization at careercenter.am website e mail us atmailbox ...',\n",
       "  'date': 'Jan 7 2004',\n",
       "  'Title': 'Full time Community Connections Intern paid internship ',\n",
       "  'Company': 'International Research Exchanges Board IREX ',\n",
       "  'AnnouncementCode': nan,\n",
       "  'Term': nan,\n",
       "  'Eligibility': nan,\n",
       "  'Audience': nan,\n",
       "  'StartDate': nan,\n",
       "  'Duration': '3 months',\n",
       "  'Location': 'IREX Armenia Main Office Yerevan Armenia DESCRIPTION IREX currently seeks to fill the position of a paid Intern for the Community Connections CC Program. The position is based in the Yerevan office however applicants must be willing to travel throughout Armenia as necessary. This position reports directly to the CC Program Manager. RESPONSIBILITIES Presenting the CC program to interested parties Assisting in planning and scheduling of programmatic meetings and events this includes coordinating logistics for CC staff visitors and participants Assisting the Program Staff Translation Interpretation from Armenian to English and vice versa Helping create maintain and update the CC filing system and databases Completing general administrative tasks for the CC program within the office Other duties as assigned needed.',\n",
       "  'JobDescription': nan,\n",
       "  'JobRequirment': nan,\n",
       "  'RequiredQual': ' Bachelor s Degree Master s is preferred Excellent skills in spoken and written English and Armenian languages Past English to Armenian translation and Armenian to English translation experience Good communication and public speaking skills Ability to work independently and as part of a team. REMUNERATION Commensurate with experience.',\n",
       "  'Salary': nan,\n",
       "  'ApplicationP': 'Please submit a cover letter and resume to IREX Yerevan office Attn Community Connections Program 50 Khanjian Str Tekeyan Center 2nd floor Yerevan 375010 Armenia. E mail cc .... Please clearly mention in your application letter that you learned of this opportunity through Career Center and mention the URL of its website www.careercenter.am Thanks.',\n",
       "  'OpeningDate': nan,\n",
       "  'Deadline': '12 January 2004',\n",
       "  'Notes': nan,\n",
       "  'AboutC': 'The International Research Exchanges Board IREX is a US Based private non profit organization. The IREX Armenia Yerevan office was established in 1992 and is a place in Armenia where interested individuals can obtain up to date information on study research and professional internship opportunities in the Unites States. IREX Yerevan collaborates with national government branches local and international NGOs and institutions of higher education in the promotion of IREX administered research and professional programs. The goal of these programs is to make American academic and professional experiences available to qualified individuals.',\n",
       "  'Attach': nan,\n",
       "  'Year': 2004,\n",
       "  'Month': 1,\n",
       "  'IT': False},\n",
       " {'_id': ObjectId('6161c2411d412c3b26e532b6'),\n",
       "  'jobpost': 'Caucasus Environmental NGO Network CENN JOB TITLE Country Coordinator POSITION DURATION Renewable annual contract POSITION LOCATION Yerevan Armenia JOB DESCRIPTION Public outreach and strengthening of a growing network of environmental NGOs businesses international organizations and public agencies. Will serve as primary contact between CENN and public. This is a full time position. JOB RESPONSIBILITIES Working with the Country Director to provide environmental information to the general public via regular electronic communications and serving as the primary local contact to Armenian NGOs and businesses and the Armenian offices of international organizations and agencies Helping to organize and prepare CENN seminars workshops Participating in defining the strategy and policy of CENN in Armenia the Caucasus region and abroad. REQUIRED QUALIFICATIONS Degree in environmentally related field or 5 years relevant experience Oral and written fluency in Armenian Russian and English Knowledge experience of working with environmental issues specific to Armenia is a plus. REMUNERATION Salary commensurate with experience. APPLICATION PROCEDURES Please send resume or CV toursula.kazarian .... Electronic submissions only please. Please clearly mention in your application letter that you learned of this job opportunity through Career Center and mention the URL of its website www.careercenter.am Thanks. APPLICATION DEADLINE 20 January 2004 START DATE February 2004 ABOUT COMPANY The Caucasus Environmental NGO Network is a non governmental non profit organization established in 1998. Since establishment CENN through its various projects has acted as a voluntary effort to foster regional cooperation by means of improved communication among environmental organizations of Armenia Azerbaijan and Georgia and partly Russia and Turkey . CENN is an open horizontally integrated structure aimed at supporting positive productive communication and cooperation on environmental protection projects and issues. To place a free posting for job or other career related opportunities in your organization at careercenter.am website e mail us atmailbox ...',\n",
       "  'date': 'Jan 7 2004',\n",
       "  'Title': 'Country Coordinator',\n",
       "  'Company': 'Caucasus Environmental NGO Network CENN ',\n",
       "  'AnnouncementCode': nan,\n",
       "  'Term': nan,\n",
       "  'Eligibility': nan,\n",
       "  'Audience': nan,\n",
       "  'StartDate': nan,\n",
       "  'Duration': 'Renewable annual contract POSITION',\n",
       "  'Location': 'Yerevan Armenia',\n",
       "  'JobDescription': 'Public outreach and strengthening of a growing network of environmental NGOs businesses international organizations and public agencies. Will serve as primary contact between CENN and public. This is a full time position.',\n",
       "  'JobRequirment': ' Working with the Country Director to provide environmental information to the general public via regular electronic communications and serving as the primary local contact to Armenian NGOs and businesses and the Armenian offices of international organizations and agencies Helping to organize and prepare CENN seminars workshops Participating in defining the strategy and policy of CENN in Armenia the Caucasus region and abroad.',\n",
       "  'RequiredQual': ' Degree in environmentally related field or 5 years relevant experience Oral and written fluency in Armenian Russian and English Knowledge experience of working with environmental issues specific to Armenia is a plus. REMUNERATION Salary commensurate with experience.',\n",
       "  'Salary': nan,\n",
       "  'ApplicationP': 'Please send resume or CV toursula.kazarian .... Electronic submissions only please. Please clearly mention in your application letter that you learned of this job opportunity through Career Center and mention the URL of its website www.careercenter.am Thanks.',\n",
       "  'OpeningDate': nan,\n",
       "  'Deadline': '20 January 2004 START DATE February 2004',\n",
       "  'Notes': nan,\n",
       "  'AboutC': 'The Caucasus Environmental NGO Network is a non governmental non profit organization established in 1998. Since establishment CENN through its various projects has acted as a voluntary effort to foster regional cooperation by means of improved communication among environmental organizations of Armenia Azerbaijan and Georgia and partly Russia and Turkey . CENN is an open horizontally integrated structure aimed at supporting positive productive communication and cooperation on environmental protection projects and issues.',\n",
       "  'Attach': nan,\n",
       "  'Year': 2004,\n",
       "  'Month': 1,\n",
       "  'IT': False},\n",
       " {'_id': ObjectId('6161c2411d412c3b26e532b7'),\n",
       "  'jobpost': 'Manoff Group JOB TITLE BCC Specialist POSITION LOCATION Manila Philippines JOB DESCRIPTION The LEAD Local Enhancement and Development for Health BCC Specialist will apply state of the art approaches in working with LGUs Local Government Units and NGOs to help them to identify and address provider caused barriers to service provision as well as to identify and address supports for good service delivery by developing tools that may be adapted to each LGU s needs. S he will work with LEAD staff across all components to support quality service delivery and will also monitor implementation of improved service delivery in LGUs and will provide additional assistance to LGUs and NGOs as needed. S he will collect all relevant published and grey literature documents identify gaps in knowledge and work with NGOs and consultants to fill in the gaps. S he will establish training for NGOs and LGU administration staff pursuing service enhancement and provider behavior change and will oversee the training. S he will serve as the Project s primary liaison to TSAP and other projects and organizations working in behavior change. JOB RESPONSIBILITIES Identify gaps in knowledge and overseeing information collection to fill them Consolidate partnerships with center of excellence of technical support working with local NGOs COs LCEs and LGUs Work with LEAD team to develop assessment tools for LGUs to identify barriers and supports to quality service provision Assist LGUs and NGOs to design and implement multifaceted if necessary systematic interventions based on assessment results to enhance quality service provision especially through provider behavior change. For example ensure that not only providers but their supervisors are trained and that monitoring and supervisory systems promote provider change quality services and sustainability of change Assist other LEAD specialists and units to enhance the quality of services especially through BCC and provider behavior change and assure that programs serve community needs Oversee and when practical co facilitate behavior change training activities and proposal development and coordinate these activities as needed with other project components and counterpart agencies Participate in developing programs to address common barriers e.g. strengthen service providers interpersonal communication skills through on the job training and use of innovative training approaches based on TSAP FP and other projects approaches Provide training to local groups in developing programs in community mobilization and advocacy to participate in health planning process Develop monitoring and evaluation systems for client centered quality care provider behavior change Reinforce inter organization collaboration and coordination of BCC interventions to improve the overall quality of interventions Serve as primary LEAD liaison with BCC agencies projects and consultants. REQUIRED QUALIFICATIONS Advanced degree in public health social science or communication or related experience Familiarity with Behavior centered Programming SM preferred At least five years experience in the design implementation and monitoring evaluation of behavior change programs in the developing world preferably including Philippines Experience with behavior change in reproductive health and or family planning programs Excellent communication coordination and facilitation skills Experience with PC based software including word processing and basic spreadsheet analysis Knowledge of a language of the Philippines or willingness to learn High level of written and spoken English fluency. APPLICATION PROCEDURES Please send cover letter and resume to Amy Pearson at apearson .... Please clearly mention in your application letter that you learned of this job opportunity through Career Center and mention the URL of its website www.careercenter.am Thanks. APPLICATION DEADLINE 23 January 2004 START DATE Immediate To place a free posting for job or other career related opportunities in your organization at careercenter.am website e mail us atmailbox ...',\n",
       "  'date': 'Jan 7 2004',\n",
       "  'Title': 'BCC Specialist',\n",
       "  'Company': 'Manoff Group',\n",
       "  'AnnouncementCode': nan,\n",
       "  'Term': nan,\n",
       "  'Eligibility': nan,\n",
       "  'Audience': nan,\n",
       "  'StartDate': nan,\n",
       "  'Duration': nan,\n",
       "  'Location': 'Manila Philippines',\n",
       "  'JobDescription': 'The LEAD Local Enhancement and Development for Health BCC Specialist will apply state of the art approaches in working with LGUs Local Government Units and NGOs to help them to identify and address provider caused barriers to service provision as well as to identify and address supports for good service delivery by developing tools that may be adapted to each LGU s needs. S he will work with LEAD staff across all components to support quality service delivery and will also monitor implementation of improved service delivery in LGUs and will provide additional assistance to LGUs and NGOs as needed. S he will collect all relevant published and grey literature documents identify gaps in knowledge and work with NGOs and consultants to fill in the gaps. S he will establish training for NGOs and LGU administration staff pursuing service enhancement and provider behavior change and will oversee the training. S he will serve as the Project s primary liaison to TSAP and other projects and organizations working in behavior change.',\n",
       "  'JobRequirment': ' Identify gaps in knowledge and overseeing information collection to fill them Consolidate partnerships with center of excellence of technical support working with local NGOs COs LCEs and LGUs Work with LEAD team to develop assessment tools for LGUs to identify barriers and supports to quality service provision Assist LGUs and NGOs to design and implement multifaceted if necessary systematic interventions based on assessment results to enhance quality service provision especially through provider behavior change. For example ensure that not only providers but their supervisors are trained and that monitoring and supervisory systems promote provider change quality services and sustainability of change Assist other LEAD specialists and units to enhance the quality of services especially through BCC and provider behavior change and assure that programs serve community needs Oversee and when practical co facilitate behavior change training activities and proposal development and coordinate these activities as needed with other project components and counterpart agencies Participate in developing programs to address common barriers e.g. strengthen service providers interpersonal communication skills through on the job training and use of innovative training approaches based on TSAP FP and other projects approaches Provide training to local groups in developing programs in community mobilization and advocacy to participate in health planning process Develop monitoring and evaluation systems for client centered quality care provider behavior change Reinforce inter organization collaboration and coordination of BCC interventions to improve the overall quality of interventions Serve as primary LEAD liaison with BCC agencies projects and consultants.',\n",
       "  'RequiredQual': ' Advanced degree in public health social science or communication or related experience Familiarity with Behavior centered Programming SM preferred At least five years experience in the design implementation and monitoring evaluation of behavior change programs in the developing world preferably including Philippines Experience with behavior change in reproductive health and or family planning programs Excellent communication coordination and facilitation skills Experience with PC based software including word processing and basic spreadsheet analysis Knowledge of a language of the Philippines or willingness to learn High level of written and spoken English fluency.',\n",
       "  'Salary': nan,\n",
       "  'ApplicationP': 'Please send cover letter and resume to Amy Pearson at apearson .... Please clearly mention in your application letter that you learned of this job opportunity through Career Center and mention the URL of its website www.careercenter.am Thanks.',\n",
       "  'OpeningDate': nan,\n",
       "  'Deadline': '23 January 2004 START DATE Immediate',\n",
       "  'Notes': nan,\n",
       "  'AboutC': nan,\n",
       "  'Attach': nan,\n",
       "  'Year': 2004,\n",
       "  'Month': 1,\n",
       "  'IT': False},\n",
       " {'_id': ObjectId('6161c2411d412c3b26e532b8'),\n",
       "  'jobpost': 'Yerevan Brandy Company JOB TITLE Software Developer POSITION LOCATION Yerevan Armenia JOB RESPONSIBILITIES Rendering technical assistance to Database Management Systems Realization of SQL servers maintenance activities back up and replication Participation in designing of software development projects. REQUIRED QUALIFICATIONS University degree economical background is a plus Excellent knowledge of Windows 2000 Server Networking TCP IP technologies MS SQL 2000 Server Visual Basic 6 At least 2 years of experience in database software development Good knowledge of English. REMUNERATION Will be commensurate with the norms accepted in the Company. APPLICATION PROCEDURES Successful candidates should submit CV 2 relevant Recommendation Letters from previous employers Copy ies of Diploma s and relevant certificates if available 1 color photo 3x4 either to 2 Isakov Avenue 375082 Yerevan or send by the following fax 587 713 or e mail to armine.bibilyan ... Human Resources Department Armine Bibilyan. Please clearly mention in your application letter that you learned of this job opportunity through Career Center and mention the URL of its website www.careercenter.am Thanks. APPLICATION DEADLINE 20 January 2004 18 00 To place a free posting for job or other career related opportunities in your organization at careercenter.am website e mail us atmailbox ...',\n",
       "  'date': 'Jan 10 2004',\n",
       "  'Title': 'Software Developer',\n",
       "  'Company': 'Yerevan Brandy Company',\n",
       "  'AnnouncementCode': nan,\n",
       "  'Term': nan,\n",
       "  'Eligibility': nan,\n",
       "  'Audience': nan,\n",
       "  'StartDate': nan,\n",
       "  'Duration': nan,\n",
       "  'Location': 'Yerevan Armenia',\n",
       "  'JobDescription': nan,\n",
       "  'JobRequirment': ' Rendering technical assistance to Database Management Systems Realization of SQL servers maintenance activities back up and replication Participation in designing of software development projects.',\n",
       "  'RequiredQual': ' University degree economical background is a plus Excellent knowledge of Windows 2000 Server Networking TCP IP technologies MS SQL 2000 Server Visual Basic 6 At least 2 years of experience in database software development Good knowledge of English. REMUNERATION Will be commensurate with the norms accepted in the Company.',\n",
       "  'Salary': nan,\n",
       "  'ApplicationP': 'Successful candidates should submit CV 2 relevant Recommendation Letters from previous employers Copy ies of Diploma s and relevant certificates if available 1 color photo 3x4 either to 2 Isakov Avenue 375082 Yerevan or send by the following fax 587 713 or e mail to armine.bibilyan ... Human Resources Department Armine Bibilyan. Please clearly mention in your application letter that you learned of this job opportunity through Career Center and mention the URL of its website www.careercenter.am Thanks.',\n",
       "  'OpeningDate': nan,\n",
       "  'Deadline': '20 January 2004 18 00',\n",
       "  'Notes': nan,\n",
       "  'AboutC': nan,\n",
       "  'Attach': nan,\n",
       "  'Year': 2004,\n",
       "  'Month': 1,\n",
       "  'IT': True}]"
      ]
     },
     "execution_count": 28,
     "metadata": {},
     "output_type": "execute_result"
    }
   ],
   "source": [
    "job_request=job.find()\n",
    "job_request_list=list(job_request)\n",
    "five_job=job_request_list[:5]"
   ]
  },
  {
   "cell_type": "code",
   "execution_count": null,
   "metadata": {},
   "outputs": [],
   "source": [
    "# job_limited=db.five_job\n",
    "# job_limited.insert_many"
   ]
  },
  {
   "cell_type": "code",
   "execution_count": 30,
   "metadata": {},
   "outputs": [
    {
     "data": {
      "text/plain": [
       "[{'_id': ObjectId('6161d1fe1d412c3b26e5c727'),\n",
       "  'Category': 'Data Science',\n",
       "  'Resume': 'Skills Programming Languages Python pandas numpy scipy scikit learn matplotlib Sql Java JavaScript JQuery. Machine learning Regression SVM Na ve Bayes KNN Random Forest Decision Trees Boosting techniques Cluster Analysis Word Embedding Sentiment Analysis Natural Language processing Dimensionality reduction Topic Modelling LDA NMF PCA Neural Nets. Database Visualizations Mysql SqlServer Cassandra Hbase ElasticSearch D3.js DC.js Plotly kibana matplotlib ggplot Tableau. Others Regular Expression HTML CSS Angular 6 Logstash Kafka Python Flask Git Docker computer vision Open CV and understanding of Deep learning.Education Details Data Science Assurance Associate Data Science Assurance Associate Ernst Young LLP Skill Details JAVASCRIPT Exprience 24 months jQuery Exprience 24 months Python Exprience 24 monthsCompany Details company Ernst Young LLP description Fraud Investigations and Dispute Services Assurance TECHNOLOGY ASSISTED REVIEW TAR Technology Assisted Review assists in accelerating the review process and run analytics and generate reports. Core member of a team helped in developing automated review platform tool from scratch for assisting E discovery domain this tool implements predictive coding and topic modelling by automating reviews resulting in reduced labor costs and time spent during the lawyers review. Understand the end to end flow of the solution doing research and development for classification models predictive analysis and mining of the information present in text data. Worked on analyzing the outputs and precision monitoring for the entire tool. TAR assists in predictive coding topic modelling from the evidence by following EY standards. Developed the classifier models in order to identify red flags and fraud related issues. Tools Technologies Python scikit learn tfidf word2vec doc2vec cosine similarity Na ve Bayes LDA NMF for topic modelling Vader and text blob for sentiment analysis. Matplot lib Tableau dashboard for reporting. MULTIPLE DATA SCIENCE AND ANALYTIC PROJECTS USA CLIENTS TEXT ANALYTICS MOTOR VEHICLE CUSTOMER REVIEW DATA Received customer feedback survey data for past one year. Performed sentiment Positive Negative Neutral and time series analysis on customer comments across all 4 categories. Created heat map of terms by survey category based on frequency of words Extracted Positive and Negative words across all the Survey categories and plotted Word cloud. Created customized tableau dashboards for effective reporting and visualizations. CHATBOT Developed a user friendly chatbot for one of our Products which handle simple questions about hours of operation reservation options and so on. This chat bot serves entire product related questions. Giving overview of tool via QA platform and also give recommendation responses so that user question to build chain of relevant answer. This too has intelligence to build the pipeline of questions as per user requirement and asks the relevant recommended questions. Tools Technologies Python Natural language processing NLTK spacy topic modelling Sentiment analysis Word Embedding scikit learn JavaScript JQuery SqlServer INFORMATION GOVERNANCE Organizations to make informed decisions about all of the information they store. The integrated Information Governance portfolio synthesizes intelligence across unstructured data sources and facilitates action to ensure organizations are best positioned to counter information risk. Scan data from multiple sources of formats and parse different file formats extract Meta data information push results for indexing elastic search and created customized interactive dashboards using kibana. Preforming ROT Analysis on the data which give information of data which helps identify content that is either Redundant Outdated or Trivial. Preforming full text search analysis on elastic search with predefined methods which can tag as PII personally identifiable information social security numbers addresses names etc. which frequently targeted during cyber attacks. Tools Technologies Python Flask Elastic Search Kibana FRAUD ANALYTIC PLATFORM Fraud Analytics and investigative platform to review all red flag cases. FAP is a Fraud Analytics and investigative platform with inbuilt case manager and suite of Analytics for various ERP systems. It can be used by clients to interrogate their Accounting systems for identifying the anomalies which can be indicators of fraud by running advanced analytics Tools Technologies HTML JavaScript SqlServer JQuery CSS Bootstrap Node.js D3.js DC.js'},\n",
       " {'_id': ObjectId('6161d1fe1d412c3b26e5c728'),\n",
       "  'Category': 'Data Science',\n",
       "  'Resume': 'Education Details May 2013 to May 2017 B.E UIT RGPV Data Scientist Data Scientist Matelabs Skill Details Python Exprience Less than 1 year months Statsmodels Exprience 12 months AWS Exprience Less than 1 year months Machine learning Exprience Less than 1 year months Sklearn Exprience Less than 1 year months Scipy Exprience Less than 1 year months Keras Exprience Less than 1 year monthsCompany Details company Matelabs description ML Platform for business professionals dummies and enthusiasts. 60 A Koramangala 5th block Achievements Tasks behind sukh sagar Bengaluru India Developed and deployed auto preprocessing steps of machine learning mainly missing value treatment outlier detection encoding scaling feature selection and dimensionality reduction. Deployed automated classification and regression model. linkedin.com in aditya rathore b4600b146 Reasearch and deployed the time series forecasting model ARIMA SARIMAX Holt winter and Prophet. Worked on meta feature extracting problem. github.com rathorology Implemented a state of the art research paper on outlier detection for mixed attributes. company Matelabs description '},\n",
       " {'_id': ObjectId('6161d1fe1d412c3b26e5c729'),\n",
       "  'Category': 'Data Science',\n",
       "  'Resume': 'Areas of Interest Deep Learning Control System Design Programming in Python Electric Machinery Web Development Analytics Technical Activities q Hindustan Aeronautics Limited Bangalore For 4 weeks under the guidance of Mr. Satish Senior Engineer in the hangar of Mirage 2000 fighter aircraft Technical Skills Programming Matlab Python and Java LabView Python WebFrameWork Django Flask LTSPICE intermediate Languages and and MIPOWER intermediate Github GitBash Jupyter Notebook Xampp MySQL Basics Python Software Packages Interpreters Anaconda Python2 Python3 Pycharm Java IDE Eclipse Operating Systems Windows Ubuntu Debian Kali Linux Education Details January 2019 B.Tech. Electrical and Electronics Engineering Manipal Institute of Technology January 2015 DEEKSHA CENTER January 2013 Little Flower Public School August 2000 Manipal Academy of Higher DATA SCIENCE DATA SCIENCE AND ELECTRICAL ENTHUSIAST Skill Details Data Analysis Exprience Less than 1 year months excel Exprience Less than 1 year months Machine Learning Exprience Less than 1 year months mathematics Exprience Less than 1 year months Python Exprience Less than 1 year months Matlab Exprience Less than 1 year months Electrical Engineering Exprience Less than 1 year months Sql Exprience Less than 1 year monthsCompany Details company THEMATHCOMPANY description I am currently working with a Casino based operator name not to be disclosed in Macau.I need to segment the customers who visit their property based on the value the patrons bring into the company.Basically prove that the segmentation can be done in much better way than the current system which they have with proper numbers to back it up.Henceforth they can implement target marketing strategy to attract their customers who add value to the business.'},\n",
       " {'_id': ObjectId('6161d1fe1d412c3b26e5c72a'),\n",
       "  'Category': 'Data Science',\n",
       "  'Resume': 'Skills R Python SAP HANA Tableau SAP HANA SQL SAP HANA PAL MS SQL SAP Lumira C Linear Programming Data Modelling Advance Analytics SCM Analytics Retail Analytics Social Media Analytics NLP Education Details January 2017 to January 2018 PGDM Business Analytics Great Lakes Institute of Management Illinois Institute of Technology January 2013 Bachelor of Engineering Electronics and Communication Bengaluru Karnataka New Horizon College of Engineering Bangalore Visvesvaraya Technological University Data Science Consultant Consultant Deloitte USI Skill Details LINEAR PROGRAMMING Exprience 6 months RETAIL Exprience 6 months RETAIL MARKETING Exprience 6 months SCM Exprience 6 months SQL Exprience Less than 1 year months Deep Learning Exprience Less than 1 year months Machine learning Exprience Less than 1 year months Python Exprience Less than 1 year months R Exprience Less than 1 year monthsCompany Details company Deloitte USI description The project involved analysing historic deals and coming with insights to optimize future deals. Role Was given raw data carried out end to end analysis and presented insights to client. Key Responsibilities Extract data from client systems across geographies. Understand and build reports in tableau. Infer meaningful insights to optimize prices and find out process blockades. Technical Environment R Tableau. Industry Cross Industry Service Area Cross Industry Products Project Name Handwriting recognition Consultant 3 months. The project involved taking handwritten images and converting them to digital text images by object detection and sentence creation. Role I was developing sentence correction functionality. Key Responsibilities Gather data large enough to capture all English words Train LSTM models on words. Technical Environment Python. Industry Finance Service Area Financial Services BI development Project Name SWIFT Consultant 8 months. The project was to develop an analytics infrastructure on top of SAP S 4 it would user to view financial reports to respective departments. Reporting also included forecasting expenses. Role I was leading the offshore team. Key Responsibilities Design Develop data models for reporting. Develop ETL for data flow Validate various reports. Technical Environment SAP HANA Tableau SAP AO. Industry Healthcare Analytics Service Area Life Sciences Product development Project Name Clinical Healthcare System Consultant 2 months. The project was to develop an analytics infrastructure on top of Argus it would allow users to query faster and provide advance analytics capabilities. Role I was involved from design to deploy phase performed a lot of data restructuring and built models for insights. Key Responsibilities Design Develop data models for reporting. Develop and deploy analytical models. Validate various reports. Technical Environment Data Modelling SAP HANA Tableau NLP. Industry FMCG Service Area Trade Promotion Project Name Consumption Based Planning for Flowers Foods Consultant 8 months. The project involved setting up of CRM and CBP modules. Role I was involved in key data decomposition activities and setting up the base for future year forecast. Over the course of the project I developed various models and carried out key performance improvements. Key Responsibilities Design Develop HANA models for decomposition. Develop data flow for forecast. Developed various views for reporting of Customer Sales Funds. Validate various reports in BOBJ. Technical Environment Data Modelling SAP HANA BOBJ Time Series Forecasting. Internal Initiative Industry FMCG Customer Segmentation and RFM analysis Consultant 3 months. The initiative involved setting up of HANA Python interface and advance analytics on Python. Over the course I had successfully segmented data into five core segments using K means and carried out RFM analysis in Python. Also developed algorithm to categorize any new customer under the defined buckets. Technical Environment Anaconda3 Python3.6 HANA SPS12 Industry Telecom Invoice state detection Consultant 1 months. The initiative was to reduce the manual effort in verifying closed and open invoices manually it involved development to a decision tree to classify open closed invoices. This enabled effort reduction by 60 . Technical Environment R SAP PAL SAP HANA SPS12 Accenture Experience Industry Analytics Cross Industry In Process Analytics for SAP Senior Developer 19 months. Accenture Solutions Pvt. Ltd. India The project involved development of SAP analytics tool In Process Analytics IPA . My role was to develop database objects and data models to provide operational insights to clients. Role I have developed various Finance related KPIs and spearheaded various deployments. Introduced SAP Predictive analytics to reduce development time and reuse functionalities for KPIs and prepared production planning reports. Key Responsibilities Involved in information gather phase. Designed and implemented SAP HANA data modelling using Attribute View Analytic View and Calculation View. Developed various KPI s individually using complex SQL scripts in Calculation views. Created procedures in HANA Database. Took ownership and developed Dashboard functionality. Involved in building data processing algorithms to be executed in R server for cluster analysis. Technical Environment R SAP HANA T SQL. Industry Cross Industry Accenture Testing Accelerator for SAP Database Developer 21 months. Accenture Solutions Pvt. Ltd. India Role I have taken care of all development activities for the ATAS tool and have also completed various deployments of the product. Apart from these activities I was also actively involved in maintenance of the database servers Production Quality Key Responsibilities Analyzing business requirements understanding the scope getting requirements clarified interacting with business and further transform all requirements to generate attribute mapping documents and reviewing mapping specification documentation Create Update database objects like tables views stored procedures function and packages Monitored SQL Server Error Logs and Application Logs through SQL Server Agent Prepared Data Flow Diagrams Entity Relationship Diagrams using UML Responsible for Designing developing and Normalization of database tables Experience in performance tuning using SQL profiler. Involved in QA UAT knowledge transfer and support activities Technical Environment SQL Server 2008 2014 Visual Studio 2010 Windows Server Performance Monitor SQL Server Profiler C PL SQL T SQL.'},\n",
       " {'_id': ObjectId('6161d1fe1d412c3b26e5c72b'),\n",
       "  'Category': 'Data Science',\n",
       "  'Resume': 'Education Details MCA YMCAUST Faridabad Haryana Data Science internship Skill Details Data Structure Exprience Less than 1 year months C Exprience Less than 1 year months Data Analysis Exprience Less than 1 year months Python Exprience Less than 1 year months Core Java Exprience Less than 1 year months Database Management Exprience Less than 1 year monthsCompany Details company Itechpower description '}]"
      ]
     },
     "execution_count": 30,
     "metadata": {},
     "output_type": "execute_result"
    }
   ],
   "source": [
    "resume_request=resume.find()\n",
    "resume_request_list=list(resume_request)\n",
    "five_resume=resume_request_list[:5]\n",
    "five_resume"
   ]
  },
  {
   "cell_type": "code",
   "execution_count": 31,
   "metadata": {},
   "outputs": [
    {
     "data": {
      "text/plain": [
       "0    AMERIA Investment Consulting Company JOB TITLE...\n",
       "1    International Research Exchanges Board IREX TI...\n",
       "2    Caucasus Environmental NGO Network CENN JOB TI...\n",
       "3    Manoff Group JOB TITLE BCC Specialist POSITION...\n",
       "4    Yerevan Brandy Company JOB TITLE Software Deve...\n",
       "5    Skills Programming Languages Python pandas num...\n",
       "6    Education Details May 2013 to May 2017 B.E UIT...\n",
       "7    Areas of Interest Deep Learning Control System...\n",
       "8    Skills R Python SAP HANA Tableau SAP HANA SQL ...\n",
       "9    Education Details MCA YMCAUST Faridabad Haryan...\n",
       "dtype: object"
      ]
     },
     "execution_count": 31,
     "metadata": {},
     "output_type": "execute_result"
    }
   ],
   "source": [
    "five_post=post.iloc[:5]\n",
    "five_resume_desc=resume_desc.iloc[:5]\n",
    "short_stack=pd.concat([five_post,five_resume_desc],ignore_index=True)\n",
    "short_stack"
   ]
  },
  {
   "cell_type": "code",
   "execution_count": 87,
   "metadata": {},
   "outputs": [
    {
     "data": {
      "text/html": [
       "<div>\n",
       "<style scoped>\n",
       "    .dataframe tbody tr th:only-of-type {\n",
       "        vertical-align: middle;\n",
       "    }\n",
       "\n",
       "    .dataframe tbody tr th {\n",
       "        vertical-align: top;\n",
       "    }\n",
       "\n",
       "    .dataframe thead th {\n",
       "        text-align: right;\n",
       "    }\n",
       "</style>\n",
       "<table border=\"1\" class=\"dataframe\">\n",
       "  <thead>\n",
       "    <tr style=\"text-align: right;\">\n",
       "      <th></th>\n",
       "      <th>0</th>\n",
       "      <th>1</th>\n",
       "      <th>2</th>\n",
       "      <th>3</th>\n",
       "      <th>4</th>\n",
       "    </tr>\n",
       "  </thead>\n",
       "  <tbody>\n",
       "    <tr>\n",
       "      <th>5</th>\n",
       "      <td>0.604489</td>\n",
       "      <td>0.541603</td>\n",
       "      <td>0.529546</td>\n",
       "      <td>0.574443</td>\n",
       "      <td>0.382704</td>\n",
       "    </tr>\n",
       "    <tr>\n",
       "      <th>6</th>\n",
       "      <td>0.316574</td>\n",
       "      <td>0.265925</td>\n",
       "      <td>0.254875</td>\n",
       "      <td>0.280936</td>\n",
       "      <td>0.149504</td>\n",
       "    </tr>\n",
       "    <tr>\n",
       "      <th>7</th>\n",
       "      <td>0.329503</td>\n",
       "      <td>0.383072</td>\n",
       "      <td>0.327441</td>\n",
       "      <td>0.351268</td>\n",
       "      <td>0.310978</td>\n",
       "    </tr>\n",
       "    <tr>\n",
       "      <th>8</th>\n",
       "      <td>0.520224</td>\n",
       "      <td>0.497880</td>\n",
       "      <td>0.457364</td>\n",
       "      <td>0.537914</td>\n",
       "      <td>0.387329</td>\n",
       "    </tr>\n",
       "    <tr>\n",
       "      <th>9</th>\n",
       "      <td>0.023621</td>\n",
       "      <td>0.017370</td>\n",
       "      <td>0.006417</td>\n",
       "      <td>0.003096</td>\n",
       "      <td>0.018160</td>\n",
       "    </tr>\n",
       "  </tbody>\n",
       "</table>\n",
       "</div>"
      ],
      "text/plain": [
       "          0         1         2         3         4\n",
       "5  0.604489  0.541603  0.529546  0.574443  0.382704\n",
       "6  0.316574  0.265925  0.254875  0.280936  0.149504\n",
       "7  0.329503  0.383072  0.327441  0.351268  0.310978\n",
       "8  0.520224  0.497880  0.457364  0.537914  0.387329\n",
       "9  0.023621  0.017370  0.006417  0.003096  0.018160"
      ]
     },
     "execution_count": 87,
     "metadata": {},
     "output_type": "execute_result"
    }
   ],
   "source": [
    "five_postdf=pd.DataFrame(five_post)\n",
    "five_resume_descdf=pd.DataFrame(five_resume_desc)\n",
    "count_matrix_five_postdf = cv.fit_transform(five_postdf)\n",
    "count_matrix_five_resume_descdf = cv.fit_transform(five_resume_descdf)\n",
    "cosine_sim_short_stack=pd.concat([five_post,five_resume_desc],ignore_index=True)\n",
    "cosine_sim_short_stackdf=pd.DataFrame(cosine_sim_short_stack)\n",
    "#fit_transform the short list data\n",
    "cosine_sim_short_stackdf_fit=cv.fit_transform(short_stack)\n",
    "\n",
    "cosine_sim_short_stack_score=cosine_similarity(cosine_sim_short_stackdf_fit)\n",
    "cosine_sim_short_stack_score_df=pd.DataFrame(cosine_sim_short_stack_score)\n",
    "cosine_sim_short_stack_score_df\n",
    "short_cos=cosine_sim_short_stack_score_df.iloc[5:,:5]\n",
    "short_cos\n",
    "# cosine_sim_short_stack = cosine_similarity(count_matrix_five_postdf,count_matrix_five_resume_descdf)\n",
    "# cosine_sim_short_stackdf=pd.DataFrame(cosine_sim_short_stack)\n",
    "# cosine_sim_short_stackdf.hist()"
   ]
  },
  {
   "cell_type": "code",
   "execution_count": 88,
   "metadata": {},
   "outputs": [
    {
     "data": {
      "text/plain": [
       "0        AMERIA Investment Consulting Company JOB TITLE...\n",
       "1        International Research Exchanges Board IREX TI...\n",
       "2        Caucasus Environmental NGO Network CENN JOB TI...\n",
       "3        Manoff Group JOB TITLE BCC Specialist POSITION...\n",
       "4        Yerevan Brandy Company JOB TITLE Software Deve...\n",
       "                               ...                        \n",
       "18996    Technolinguistics NGO TITLE Senior Creative UX...\n",
       "18997     Coca Cola Hellenic Bottling Company Armenia C...\n",
       "18998     Coca Cola Hellenic Bottling Company Armenia C...\n",
       "18999    San Lazzaro LLC TITLE Head of Online Sales Dep...\n",
       "19000     Kamurj UCO CJSC TITLE Lawyer in Legal Departm...\n",
       "Name: jobpost, Length: 19001, dtype: object"
      ]
     },
     "execution_count": 88,
     "metadata": {},
     "output_type": "execute_result"
    }
   ],
   "source": [
    "post"
   ]
  },
  {
   "cell_type": "code",
   "execution_count": 103,
   "metadata": {},
   "outputs": [
    {
     "ename": "AttributeError",
     "evalue": "'list' object has no attribute 'to_string'",
     "output_type": "error",
     "traceback": [
      "\u001b[1;31m---------------------------------------------------------------------------\u001b[0m",
      "\u001b[1;31mAttributeError\u001b[0m                            Traceback (most recent call last)",
      "\u001b[1;32m<ipython-input-103-d52bb636571f>\u001b[0m in \u001b[0;36m<module>\u001b[1;34m\u001b[0m\n\u001b[0;32m      1\u001b[0m \u001b[0mmy_list\u001b[0m \u001b[1;33m=\u001b[0m \u001b[0mshort_cos\u001b[0m\u001b[1;33m.\u001b[0m\u001b[0mcolumns\u001b[0m\u001b[1;33m.\u001b[0m\u001b[0mvalues\u001b[0m\u001b[1;33m.\u001b[0m\u001b[0mtolist\u001b[0m\u001b[1;33m(\u001b[0m\u001b[1;33m)\u001b[0m\u001b[1;33m\u001b[0m\u001b[1;33m\u001b[0m\u001b[0m\n\u001b[1;32m----> 2\u001b[1;33m \u001b[0mmy_list\u001b[0m\u001b[1;33m.\u001b[0m\u001b[0mto_string\u001b[0m\u001b[1;33m(\u001b[0m\u001b[1;33m)\u001b[0m\u001b[1;33m\u001b[0m\u001b[1;33m\u001b[0m\u001b[0m\n\u001b[0m",
      "\u001b[1;31mAttributeError\u001b[0m: 'list' object has no attribute 'to_string'"
     ]
    }
   ],
   "source": [
    "my_list = short_cos.columns.values.tolist()\n"
   ]
  },
  {
   "cell_type": "code",
   "execution_count": 106,
   "metadata": {},
   "outputs": [
    {
     "data": {
      "text/plain": [
       "Index(['0', '1', '2', '3', '4'], dtype='object')"
      ]
     },
     "execution_count": 106,
     "metadata": {},
     "output_type": "execute_result"
    }
   ],
   "source": [
    "short_cos.columns=short_cos.columns.astype(str)\n",
    "short_cos.columns"
   ]
  },
  {
   "cell_type": "code",
   "execution_count": 107,
   "metadata": {},
   "outputs": [
    {
     "data": {
      "text/plain": [
       "<pymongo.cursor.Cursor at 0x1f6e28f6898>"
      ]
     },
     "execution_count": 107,
     "metadata": {},
     "output_type": "execute_result"
    }
   ],
   "source": [
    "#Create database\n",
    "job_limited=db.five_job\n",
    "#Convert data for database\n",
    "\n",
    "\n",
    "\n",
    "C=short_cos.to_dict('Records')\n",
    "\n",
    "job_limited.insert_many(C)\n",
    "job_limited.find()"
   ]
  },
  {
   "cell_type": "code",
   "execution_count": 97,
   "metadata": {},
   "outputs": [
    {
     "data": {
      "text/plain": [
       "[{0: 0.6044888229172193,\n",
       "  1: 0.5416033706753954,\n",
       "  2: 0.5295455582508979,\n",
       "  3: 0.5744426726585407,\n",
       "  4: 0.3827044825148655},\n",
       " {0: 0.31657381929463596,\n",
       "  1: 0.2659250754082747,\n",
       "  2: 0.25487527328490694,\n",
       "  3: 0.28093639569499135,\n",
       "  4: 0.14950385751617898},\n",
       " {0: 0.3295032196309082,\n",
       "  1: 0.38307180709576705,\n",
       "  2: 0.32744141353453354,\n",
       "  3: 0.3512677878411081,\n",
       "  4: 0.3109777502094318},\n",
       " {0: 0.5202237606345046,\n",
       "  1: 0.4978798906578481,\n",
       "  2: 0.4573640731987174,\n",
       "  3: 0.5379141984506879,\n",
       "  4: 0.3873286699928712},\n",
       " {0: 0.023620522009382312,\n",
       "  1: 0.01736954202570263,\n",
       "  2: 0.006416969167544688,\n",
       "  3: 0.003095657098046908,\n",
       "  4: 0.01815985952865452}]"
      ]
     },
     "execution_count": 97,
     "metadata": {},
     "output_type": "execute_result"
    }
   ],
   "source": [
    "C"
   ]
  },
  {
   "cell_type": "code",
   "execution_count": null,
   "metadata": {},
   "outputs": [],
   "source": []
  }
 ],
 "metadata": {
  "kernelspec": {
   "display_name": "Python 3",
   "language": "python",
   "name": "python3"
  },
  "language_info": {
   "codemirror_mode": {
    "name": "ipython",
    "version": 3
   },
   "file_extension": ".py",
   "mimetype": "text/x-python",
   "name": "python",
   "nbconvert_exporter": "python",
   "pygments_lexer": "ipython3",
   "version": "3.7.1"
  }
 },
 "nbformat": 4,
 "nbformat_minor": 2
}
